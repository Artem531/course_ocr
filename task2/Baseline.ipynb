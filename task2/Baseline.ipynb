{
 "cells": [
  {
   "cell_type": "code",
   "execution_count": 1,
   "id": "9f37abdd",
   "metadata": {},
   "outputs": [],
   "source": [
    "from data_reader import Vocabulary, HWDBDatasetHelper, ArchivedHWDBReader\n",
    "\n",
    "# your path to data\n",
    "train_path = r'/media/artem/A2F4DEB0F4DE85C7/myData/datasets/HWDBT/train.zip'\n",
    "test_path = r'/media/artem/A2F4DEB0F4DE85C7/myData/datasets/HWDBT/test.zip'\n",
    "gt_path = './gt.txt'"
   ]
  },
  {
   "cell_type": "markdown",
   "id": "2042614e",
   "metadata": {},
   "source": [
    "# Simple CNN baseline\n",
    "\n",
    "pytorch is required for this baseline implementation\n",
    "\n",
    "## Baseline method\n",
    "\n",
    "- Naively resize to 32x32 (DON'T DO THIS IN YOUR WORK, try to save geometry somehow, it is important)\n",
    "- Train LeNet-like CNN\n",
    "- Enjoy :)"
   ]
  },
  {
   "cell_type": "code",
   "execution_count": 2,
   "id": "73d8b167",
   "metadata": {},
   "outputs": [],
   "source": [
    "import cv2\n",
    "import numpy as np"
   ]
  },
  {
   "cell_type": "markdown",
   "id": "f81f84ab",
   "metadata": {},
   "source": [
    "### Data tools"
   ]
  },
  {
   "cell_type": "code",
   "execution_count": 3,
   "id": "f7f882df",
   "metadata": {},
   "outputs": [],
   "source": [
    "train_reader = ArchivedHWDBReader(train_path)\n",
    "train_reader.open()\n",
    "train_helper = HWDBDatasetHelper(train_reader)"
   ]
  },
  {
   "cell_type": "code",
   "execution_count": 4,
   "id": "35cf8784",
   "metadata": {},
   "outputs": [],
   "source": [
    "train_helper, val_helper = train_helper.train_val_split()"
   ]
  },
  {
   "cell_type": "code",
   "execution_count": 5,
   "id": "92eb367e",
   "metadata": {},
   "outputs": [
    {
     "data": {
      "text/plain": [
       "(2578433, 644609)"
      ]
     },
     "execution_count": 5,
     "metadata": {},
     "output_type": "execute_result"
    }
   ],
   "source": [
    "train_helper.size(), val_helper.size()"
   ]
  },
  {
   "cell_type": "markdown",
   "id": "e7b6636f",
   "metadata": {},
   "source": [
    "### Model & training"
   ]
  },
  {
   "cell_type": "code",
   "execution_count": 6,
   "id": "c42c7941",
   "metadata": {},
   "outputs": [
    {
     "name": "stdout",
     "output_type": "stream",
     "text": [
      "Requirement already satisfied: pytorch-metric-learning in /home/artem/anaconda3/envs/CenterNetRefs/lib/python3.7/site-packages (1.3.0)\n",
      "Requirement already satisfied: torch>=1.6.0 in /home/artem/anaconda3/envs/CenterNetRefs/lib/python3.7/site-packages (from pytorch-metric-learning) (1.10.2)\n",
      "Requirement already satisfied: scikit-learn in /home/artem/anaconda3/envs/CenterNetRefs/lib/python3.7/site-packages (from pytorch-metric-learning) (1.0.2)\n",
      "Requirement already satisfied: torchvision in /home/artem/anaconda3/envs/CenterNetRefs/lib/python3.7/site-packages (from pytorch-metric-learning) (0.11.3)\n",
      "Requirement already satisfied: numpy in /home/artem/anaconda3/envs/CenterNetRefs/lib/python3.7/site-packages (from pytorch-metric-learning) (1.21.2)\n",
      "Requirement already satisfied: tqdm in /home/artem/anaconda3/envs/CenterNetRefs/lib/python3.7/site-packages (from pytorch-metric-learning) (4.62.3)\n",
      "Requirement already satisfied: typing_extensions in /home/artem/anaconda3/envs/CenterNetRefs/lib/python3.7/site-packages (from torch>=1.6.0->pytorch-metric-learning) (3.10.0.2)\n",
      "Requirement already satisfied: joblib>=0.11 in /home/artem/anaconda3/envs/CenterNetRefs/lib/python3.7/site-packages (from scikit-learn->pytorch-metric-learning) (1.1.0)\n",
      "Requirement already satisfied: scipy>=1.1.0 in /home/artem/anaconda3/envs/CenterNetRefs/lib/python3.7/site-packages (from scikit-learn->pytorch-metric-learning) (1.7.3)\n",
      "Requirement already satisfied: threadpoolctl>=2.0.0 in /home/artem/anaconda3/envs/CenterNetRefs/lib/python3.7/site-packages (from scikit-learn->pytorch-metric-learning) (3.1.0)\n",
      "Requirement already satisfied: pillow!=8.3.0,>=5.3.0 in /home/artem/anaconda3/envs/CenterNetRefs/lib/python3.7/site-packages (from torchvision->pytorch-metric-learning) (8.4.0)\n",
      "Requirement already satisfied: umap-learn in /home/artem/anaconda3/envs/CenterNetRefs/lib/python3.7/site-packages (0.5.3)\n",
      "Requirement already satisfied: tqdm in /home/artem/anaconda3/envs/CenterNetRefs/lib/python3.7/site-packages (from umap-learn) (4.62.3)\n",
      "Requirement already satisfied: pynndescent>=0.5 in /home/artem/anaconda3/envs/CenterNetRefs/lib/python3.7/site-packages (from umap-learn) (0.5.6)\n",
      "Requirement already satisfied: scipy>=1.0 in /home/artem/anaconda3/envs/CenterNetRefs/lib/python3.7/site-packages (from umap-learn) (1.7.3)\n",
      "Requirement already satisfied: numba>=0.49 in /home/artem/anaconda3/envs/CenterNetRefs/lib/python3.7/site-packages (from umap-learn) (0.55.1)\n",
      "Requirement already satisfied: scikit-learn>=0.22 in /home/artem/anaconda3/envs/CenterNetRefs/lib/python3.7/site-packages (from umap-learn) (1.0.2)\n",
      "Requirement already satisfied: numpy>=1.17 in /home/artem/anaconda3/envs/CenterNetRefs/lib/python3.7/site-packages (from umap-learn) (1.21.2)\n",
      "Requirement already satisfied: setuptools in /home/artem/anaconda3/envs/CenterNetRefs/lib/python3.7/site-packages (from numba>=0.49->umap-learn) (58.0.4)\n",
      "Requirement already satisfied: llvmlite<0.39,>=0.38.0rc1 in /home/artem/anaconda3/envs/CenterNetRefs/lib/python3.7/site-packages (from numba>=0.49->umap-learn) (0.38.0)\n",
      "Requirement already satisfied: joblib>=0.11 in /home/artem/anaconda3/envs/CenterNetRefs/lib/python3.7/site-packages (from pynndescent>=0.5->umap-learn) (1.1.0)\n",
      "Requirement already satisfied: threadpoolctl>=2.0.0 in /home/artem/anaconda3/envs/CenterNetRefs/lib/python3.7/site-packages (from scikit-learn>=0.22->umap-learn) (3.1.0)\n"
     ]
    }
   ],
   "source": [
    "!pip install pytorch-metric-learning\n",
    "!pip install umap-learn"
   ]
  },
  {
   "cell_type": "code",
   "execution_count": 7,
   "id": "73f5d06d",
   "metadata": {},
   "outputs": [
    {
     "name": "stdout",
     "output_type": "stream",
     "text": [
      "Sequential(\n",
      "  (0): MobileNetV3(\n",
      "    (features): Sequential(\n",
      "      (0): ConvNormActivation(\n",
      "        (0): Conv2d(3, 16, kernel_size=(3, 3), stride=(2, 2), padding=(1, 1), bias=False)\n",
      "        (1): BatchNorm2d(16, eps=0.001, momentum=0.01, affine=True, track_running_stats=True)\n",
      "        (2): Hardswish()\n",
      "      )\n",
      "      (1): InvertedResidual(\n",
      "        (block): Sequential(\n",
      "          (0): ConvNormActivation(\n",
      "            (0): Conv2d(16, 16, kernel_size=(3, 3), stride=(1, 1), padding=(1, 1), groups=16, bias=False)\n",
      "            (1): BatchNorm2d(16, eps=0.001, momentum=0.01, affine=True, track_running_stats=True)\n",
      "            (2): ReLU(inplace=True)\n",
      "          )\n",
      "          (1): ConvNormActivation(\n",
      "            (0): Conv2d(16, 16, kernel_size=(1, 1), stride=(1, 1), bias=False)\n",
      "            (1): BatchNorm2d(16, eps=0.001, momentum=0.01, affine=True, track_running_stats=True)\n",
      "          )\n",
      "        )\n",
      "      )\n",
      "      (2): InvertedResidual(\n",
      "        (block): Sequential(\n",
      "          (0): ConvNormActivation(\n",
      "            (0): Conv2d(16, 64, kernel_size=(1, 1), stride=(1, 1), bias=False)\n",
      "            (1): BatchNorm2d(64, eps=0.001, momentum=0.01, affine=True, track_running_stats=True)\n",
      "            (2): ReLU(inplace=True)\n",
      "          )\n",
      "          (1): ConvNormActivation(\n",
      "            (0): Conv2d(64, 64, kernel_size=(3, 3), stride=(2, 2), padding=(1, 1), groups=64, bias=False)\n",
      "            (1): BatchNorm2d(64, eps=0.001, momentum=0.01, affine=True, track_running_stats=True)\n",
      "            (2): ReLU(inplace=True)\n",
      "          )\n",
      "          (2): ConvNormActivation(\n",
      "            (0): Conv2d(64, 24, kernel_size=(1, 1), stride=(1, 1), bias=False)\n",
      "            (1): BatchNorm2d(24, eps=0.001, momentum=0.01, affine=True, track_running_stats=True)\n",
      "          )\n",
      "        )\n",
      "      )\n",
      "      (3): InvertedResidual(\n",
      "        (block): Sequential(\n",
      "          (0): ConvNormActivation(\n",
      "            (0): Conv2d(24, 72, kernel_size=(1, 1), stride=(1, 1), bias=False)\n",
      "            (1): BatchNorm2d(72, eps=0.001, momentum=0.01, affine=True, track_running_stats=True)\n",
      "            (2): ReLU(inplace=True)\n",
      "          )\n",
      "          (1): ConvNormActivation(\n",
      "            (0): Conv2d(72, 72, kernel_size=(3, 3), stride=(1, 1), padding=(1, 1), groups=72, bias=False)\n",
      "            (1): BatchNorm2d(72, eps=0.001, momentum=0.01, affine=True, track_running_stats=True)\n",
      "            (2): ReLU(inplace=True)\n",
      "          )\n",
      "          (2): ConvNormActivation(\n",
      "            (0): Conv2d(72, 24, kernel_size=(1, 1), stride=(1, 1), bias=False)\n",
      "            (1): BatchNorm2d(24, eps=0.001, momentum=0.01, affine=True, track_running_stats=True)\n",
      "          )\n",
      "        )\n",
      "      )\n",
      "      (4): InvertedResidual(\n",
      "        (block): Sequential(\n",
      "          (0): ConvNormActivation(\n",
      "            (0): Conv2d(24, 72, kernel_size=(1, 1), stride=(1, 1), bias=False)\n",
      "            (1): BatchNorm2d(72, eps=0.001, momentum=0.01, affine=True, track_running_stats=True)\n",
      "            (2): ReLU(inplace=True)\n",
      "          )\n",
      "          (1): ConvNormActivation(\n",
      "            (0): Conv2d(72, 72, kernel_size=(5, 5), stride=(2, 2), padding=(2, 2), groups=72, bias=False)\n",
      "            (1): BatchNorm2d(72, eps=0.001, momentum=0.01, affine=True, track_running_stats=True)\n",
      "            (2): ReLU(inplace=True)\n",
      "          )\n",
      "          (2): SqueezeExcitation(\n",
      "            (avgpool): AdaptiveAvgPool2d(output_size=1)\n",
      "            (fc1): Conv2d(72, 24, kernel_size=(1, 1), stride=(1, 1))\n",
      "            (fc2): Conv2d(24, 72, kernel_size=(1, 1), stride=(1, 1))\n",
      "            (activation): ReLU()\n",
      "            (scale_activation): Hardsigmoid()\n",
      "          )\n",
      "          (3): ConvNormActivation(\n",
      "            (0): Conv2d(72, 40, kernel_size=(1, 1), stride=(1, 1), bias=False)\n",
      "            (1): BatchNorm2d(40, eps=0.001, momentum=0.01, affine=True, track_running_stats=True)\n",
      "          )\n",
      "        )\n",
      "      )\n",
      "      (5): InvertedResidual(\n",
      "        (block): Sequential(\n",
      "          (0): ConvNormActivation(\n",
      "            (0): Conv2d(40, 120, kernel_size=(1, 1), stride=(1, 1), bias=False)\n",
      "            (1): BatchNorm2d(120, eps=0.001, momentum=0.01, affine=True, track_running_stats=True)\n",
      "            (2): ReLU(inplace=True)\n",
      "          )\n",
      "          (1): ConvNormActivation(\n",
      "            (0): Conv2d(120, 120, kernel_size=(5, 5), stride=(1, 1), padding=(2, 2), groups=120, bias=False)\n",
      "            (1): BatchNorm2d(120, eps=0.001, momentum=0.01, affine=True, track_running_stats=True)\n",
      "            (2): ReLU(inplace=True)\n",
      "          )\n",
      "          (2): SqueezeExcitation(\n",
      "            (avgpool): AdaptiveAvgPool2d(output_size=1)\n",
      "            (fc1): Conv2d(120, 32, kernel_size=(1, 1), stride=(1, 1))\n",
      "            (fc2): Conv2d(32, 120, kernel_size=(1, 1), stride=(1, 1))\n",
      "            (activation): ReLU()\n",
      "            (scale_activation): Hardsigmoid()\n",
      "          )\n",
      "          (3): ConvNormActivation(\n",
      "            (0): Conv2d(120, 40, kernel_size=(1, 1), stride=(1, 1), bias=False)\n",
      "            (1): BatchNorm2d(40, eps=0.001, momentum=0.01, affine=True, track_running_stats=True)\n",
      "          )\n",
      "        )\n",
      "      )\n",
      "      (6): InvertedResidual(\n",
      "        (block): Sequential(\n",
      "          (0): ConvNormActivation(\n",
      "            (0): Conv2d(40, 120, kernel_size=(1, 1), stride=(1, 1), bias=False)\n",
      "            (1): BatchNorm2d(120, eps=0.001, momentum=0.01, affine=True, track_running_stats=True)\n",
      "            (2): ReLU(inplace=True)\n",
      "          )\n",
      "          (1): ConvNormActivation(\n",
      "            (0): Conv2d(120, 120, kernel_size=(5, 5), stride=(1, 1), padding=(2, 2), groups=120, bias=False)\n",
      "            (1): BatchNorm2d(120, eps=0.001, momentum=0.01, affine=True, track_running_stats=True)\n",
      "            (2): ReLU(inplace=True)\n",
      "          )\n",
      "          (2): SqueezeExcitation(\n",
      "            (avgpool): AdaptiveAvgPool2d(output_size=1)\n",
      "            (fc1): Conv2d(120, 32, kernel_size=(1, 1), stride=(1, 1))\n",
      "            (fc2): Conv2d(32, 120, kernel_size=(1, 1), stride=(1, 1))\n",
      "            (activation): ReLU()\n",
      "            (scale_activation): Hardsigmoid()\n",
      "          )\n",
      "          (3): ConvNormActivation(\n",
      "            (0): Conv2d(120, 40, kernel_size=(1, 1), stride=(1, 1), bias=False)\n",
      "            (1): BatchNorm2d(40, eps=0.001, momentum=0.01, affine=True, track_running_stats=True)\n",
      "          )\n",
      "        )\n",
      "      )\n",
      "      (7): InvertedResidual(\n",
      "        (block): Sequential(\n",
      "          (0): ConvNormActivation(\n",
      "            (0): Conv2d(40, 240, kernel_size=(1, 1), stride=(1, 1), bias=False)\n",
      "            (1): BatchNorm2d(240, eps=0.001, momentum=0.01, affine=True, track_running_stats=True)\n",
      "            (2): Hardswish()\n",
      "          )\n",
      "          (1): ConvNormActivation(\n",
      "            (0): Conv2d(240, 240, kernel_size=(3, 3), stride=(2, 2), padding=(1, 1), groups=240, bias=False)\n",
      "            (1): BatchNorm2d(240, eps=0.001, momentum=0.01, affine=True, track_running_stats=True)\n",
      "            (2): Hardswish()\n",
      "          )\n",
      "          (2): ConvNormActivation(\n",
      "            (0): Conv2d(240, 80, kernel_size=(1, 1), stride=(1, 1), bias=False)\n",
      "            (1): BatchNorm2d(80, eps=0.001, momentum=0.01, affine=True, track_running_stats=True)\n",
      "          )\n",
      "        )\n",
      "      )\n",
      "      (8): InvertedResidual(\n",
      "        (block): Sequential(\n",
      "          (0): ConvNormActivation(\n",
      "            (0): Conv2d(80, 200, kernel_size=(1, 1), stride=(1, 1), bias=False)\n",
      "            (1): BatchNorm2d(200, eps=0.001, momentum=0.01, affine=True, track_running_stats=True)\n",
      "            (2): Hardswish()\n",
      "          )\n",
      "          (1): ConvNormActivation(\n",
      "            (0): Conv2d(200, 200, kernel_size=(3, 3), stride=(1, 1), padding=(1, 1), groups=200, bias=False)\n",
      "            (1): BatchNorm2d(200, eps=0.001, momentum=0.01, affine=True, track_running_stats=True)\n",
      "            (2): Hardswish()\n",
      "          )\n",
      "          (2): ConvNormActivation(\n",
      "            (0): Conv2d(200, 80, kernel_size=(1, 1), stride=(1, 1), bias=False)\n",
      "            (1): BatchNorm2d(80, eps=0.001, momentum=0.01, affine=True, track_running_stats=True)\n",
      "          )\n",
      "        )\n",
      "      )\n",
      "      (9): InvertedResidual(\n",
      "        (block): Sequential(\n",
      "          (0): ConvNormActivation(\n",
      "            (0): Conv2d(80, 184, kernel_size=(1, 1), stride=(1, 1), bias=False)\n",
      "            (1): BatchNorm2d(184, eps=0.001, momentum=0.01, affine=True, track_running_stats=True)\n",
      "            (2): Hardswish()\n",
      "          )\n",
      "          (1): ConvNormActivation(\n",
      "            (0): Conv2d(184, 184, kernel_size=(3, 3), stride=(1, 1), padding=(1, 1), groups=184, bias=False)\n",
      "            (1): BatchNorm2d(184, eps=0.001, momentum=0.01, affine=True, track_running_stats=True)\n",
      "            (2): Hardswish()\n",
      "          )\n",
      "          (2): ConvNormActivation(\n",
      "            (0): Conv2d(184, 80, kernel_size=(1, 1), stride=(1, 1), bias=False)\n",
      "            (1): BatchNorm2d(80, eps=0.001, momentum=0.01, affine=True, track_running_stats=True)\n",
      "          )\n",
      "        )\n",
      "      )\n",
      "      (10): InvertedResidual(\n",
      "        (block): Sequential(\n",
      "          (0): ConvNormActivation(\n",
      "            (0): Conv2d(80, 184, kernel_size=(1, 1), stride=(1, 1), bias=False)\n",
      "            (1): BatchNorm2d(184, eps=0.001, momentum=0.01, affine=True, track_running_stats=True)\n",
      "            (2): Hardswish()\n",
      "          )\n",
      "          (1): ConvNormActivation(\n",
      "            (0): Conv2d(184, 184, kernel_size=(3, 3), stride=(1, 1), padding=(1, 1), groups=184, bias=False)\n",
      "            (1): BatchNorm2d(184, eps=0.001, momentum=0.01, affine=True, track_running_stats=True)\n",
      "            (2): Hardswish()\n",
      "          )\n",
      "          (2): ConvNormActivation(\n",
      "            (0): Conv2d(184, 80, kernel_size=(1, 1), stride=(1, 1), bias=False)\n",
      "            (1): BatchNorm2d(80, eps=0.001, momentum=0.01, affine=True, track_running_stats=True)\n",
      "          )\n",
      "        )\n",
      "      )\n",
      "      (11): InvertedResidual(\n",
      "        (block): Sequential(\n",
      "          (0): ConvNormActivation(\n",
      "            (0): Conv2d(80, 480, kernel_size=(1, 1), stride=(1, 1), bias=False)\n",
      "            (1): BatchNorm2d(480, eps=0.001, momentum=0.01, affine=True, track_running_stats=True)\n",
      "            (2): Hardswish()\n",
      "          )\n",
      "          (1): ConvNormActivation(\n",
      "            (0): Conv2d(480, 480, kernel_size=(3, 3), stride=(1, 1), padding=(1, 1), groups=480, bias=False)\n",
      "            (1): BatchNorm2d(480, eps=0.001, momentum=0.01, affine=True, track_running_stats=True)\n",
      "            (2): Hardswish()\n",
      "          )\n",
      "          (2): SqueezeExcitation(\n",
      "            (avgpool): AdaptiveAvgPool2d(output_size=1)\n",
      "            (fc1): Conv2d(480, 120, kernel_size=(1, 1), stride=(1, 1))\n",
      "            (fc2): Conv2d(120, 480, kernel_size=(1, 1), stride=(1, 1))\n",
      "            (activation): ReLU()\n",
      "            (scale_activation): Hardsigmoid()\n",
      "          )\n",
      "          (3): ConvNormActivation(\n",
      "            (0): Conv2d(480, 112, kernel_size=(1, 1), stride=(1, 1), bias=False)\n",
      "            (1): BatchNorm2d(112, eps=0.001, momentum=0.01, affine=True, track_running_stats=True)\n",
      "          )\n",
      "        )\n",
      "      )\n",
      "      (12): InvertedResidual(\n",
      "        (block): Sequential(\n",
      "          (0): ConvNormActivation(\n",
      "            (0): Conv2d(112, 672, kernel_size=(1, 1), stride=(1, 1), bias=False)\n",
      "            (1): BatchNorm2d(672, eps=0.001, momentum=0.01, affine=True, track_running_stats=True)\n",
      "            (2): Hardswish()\n",
      "          )\n",
      "          (1): ConvNormActivation(\n",
      "            (0): Conv2d(672, 672, kernel_size=(3, 3), stride=(1, 1), padding=(1, 1), groups=672, bias=False)\n",
      "            (1): BatchNorm2d(672, eps=0.001, momentum=0.01, affine=True, track_running_stats=True)\n",
      "            (2): Hardswish()\n",
      "          )\n",
      "          (2): SqueezeExcitation(\n",
      "            (avgpool): AdaptiveAvgPool2d(output_size=1)\n",
      "            (fc1): Conv2d(672, 168, kernel_size=(1, 1), stride=(1, 1))\n",
      "            (fc2): Conv2d(168, 672, kernel_size=(1, 1), stride=(1, 1))\n",
      "            (activation): ReLU()\n",
      "            (scale_activation): Hardsigmoid()\n",
      "          )\n",
      "          (3): ConvNormActivation(\n",
      "            (0): Conv2d(672, 112, kernel_size=(1, 1), stride=(1, 1), bias=False)\n",
      "            (1): BatchNorm2d(112, eps=0.001, momentum=0.01, affine=True, track_running_stats=True)\n",
      "          )\n",
      "        )\n",
      "      )\n",
      "      (13): InvertedResidual(\n",
      "        (block): Sequential(\n",
      "          (0): ConvNormActivation(\n",
      "            (0): Conv2d(112, 672, kernel_size=(1, 1), stride=(1, 1), bias=False)\n",
      "            (1): BatchNorm2d(672, eps=0.001, momentum=0.01, affine=True, track_running_stats=True)\n",
      "            (2): Hardswish()\n",
      "          )\n",
      "          (1): ConvNormActivation(\n",
      "            (0): Conv2d(672, 672, kernel_size=(5, 5), stride=(2, 2), padding=(2, 2), groups=672, bias=False)\n",
      "            (1): BatchNorm2d(672, eps=0.001, momentum=0.01, affine=True, track_running_stats=True)\n",
      "            (2): Hardswish()\n",
      "          )\n",
      "          (2): SqueezeExcitation(\n",
      "            (avgpool): AdaptiveAvgPool2d(output_size=1)\n",
      "            (fc1): Conv2d(672, 168, kernel_size=(1, 1), stride=(1, 1))\n",
      "            (fc2): Conv2d(168, 672, kernel_size=(1, 1), stride=(1, 1))\n",
      "            (activation): ReLU()\n",
      "            (scale_activation): Hardsigmoid()\n",
      "          )\n",
      "          (3): ConvNormActivation(\n",
      "            (0): Conv2d(672, 160, kernel_size=(1, 1), stride=(1, 1), bias=False)\n",
      "            (1): BatchNorm2d(160, eps=0.001, momentum=0.01, affine=True, track_running_stats=True)\n",
      "          )\n",
      "        )\n",
      "      )\n",
      "      (14): InvertedResidual(\n",
      "        (block): Sequential(\n",
      "          (0): ConvNormActivation(\n",
      "            (0): Conv2d(160, 960, kernel_size=(1, 1), stride=(1, 1), bias=False)\n",
      "            (1): BatchNorm2d(960, eps=0.001, momentum=0.01, affine=True, track_running_stats=True)\n",
      "            (2): Hardswish()\n",
      "          )\n",
      "          (1): ConvNormActivation(\n",
      "            (0): Conv2d(960, 960, kernel_size=(5, 5), stride=(1, 1), padding=(2, 2), groups=960, bias=False)\n",
      "            (1): BatchNorm2d(960, eps=0.001, momentum=0.01, affine=True, track_running_stats=True)\n",
      "            (2): Hardswish()\n",
      "          )\n",
      "          (2): SqueezeExcitation(\n",
      "            (avgpool): AdaptiveAvgPool2d(output_size=1)\n",
      "            (fc1): Conv2d(960, 240, kernel_size=(1, 1), stride=(1, 1))\n",
      "            (fc2): Conv2d(240, 960, kernel_size=(1, 1), stride=(1, 1))\n",
      "            (activation): ReLU()\n",
      "            (scale_activation): Hardsigmoid()\n",
      "          )\n",
      "          (3): ConvNormActivation(\n",
      "            (0): Conv2d(960, 160, kernel_size=(1, 1), stride=(1, 1), bias=False)\n",
      "            (1): BatchNorm2d(160, eps=0.001, momentum=0.01, affine=True, track_running_stats=True)\n",
      "          )\n",
      "        )\n",
      "      )\n",
      "      (15): InvertedResidual(\n",
      "        (block): Sequential(\n",
      "          (0): ConvNormActivation(\n",
      "            (0): Conv2d(160, 960, kernel_size=(1, 1), stride=(1, 1), bias=False)\n",
      "            (1): BatchNorm2d(960, eps=0.001, momentum=0.01, affine=True, track_running_stats=True)\n",
      "            (2): Hardswish()\n",
      "          )\n",
      "          (1): ConvNormActivation(\n",
      "            (0): Conv2d(960, 960, kernel_size=(5, 5), stride=(1, 1), padding=(2, 2), groups=960, bias=False)\n",
      "            (1): BatchNorm2d(960, eps=0.001, momentum=0.01, affine=True, track_running_stats=True)\n",
      "            (2): Hardswish()\n",
      "          )\n",
      "          (2): SqueezeExcitation(\n",
      "            (avgpool): AdaptiveAvgPool2d(output_size=1)\n",
      "            (fc1): Conv2d(960, 240, kernel_size=(1, 1), stride=(1, 1))\n",
      "            (fc2): Conv2d(240, 960, kernel_size=(1, 1), stride=(1, 1))\n",
      "            (activation): ReLU()\n",
      "            (scale_activation): Hardsigmoid()\n",
      "          )\n",
      "          (3): ConvNormActivation(\n",
      "            (0): Conv2d(960, 160, kernel_size=(1, 1), stride=(1, 1), bias=False)\n",
      "            (1): BatchNorm2d(160, eps=0.001, momentum=0.01, affine=True, track_running_stats=True)\n",
      "          )\n",
      "        )\n",
      "      )\n",
      "      (16): ConvNormActivation(\n",
      "        (0): Conv2d(160, 960, kernel_size=(1, 1), stride=(1, 1), bias=False)\n",
      "        (1): BatchNorm2d(960, eps=0.001, momentum=0.01, affine=True, track_running_stats=True)\n",
      "        (2): Hardswish()\n",
      "      )\n",
      "    )\n",
      "    (avgpool): AdaptiveAvgPool2d(output_size=1)\n",
      "    (classifier): Sequential(\n",
      "      (0): Linear(in_features=960, out_features=1280, bias=True)\n",
      "      (1): Hardswish()\n",
      "      (2): Dropout(p=0.2, inplace=True)\n",
      "      (3): Linear(in_features=1280, out_features=1000, bias=True)\n",
      "    )\n",
      "  )\n",
      "  (1): ReLU()\n",
      "  (2): Linear(in_features=1000, out_features=1000, bias=True)\n",
      ")\n"
     ]
    }
   ],
   "source": [
    "from torchvision import models\n",
    "from torch import nn\n",
    "\n",
    "model = nn.Sequential(models.mobilenet_v3_large(pretrained=True),\n",
    "                      nn.ReLU(),\n",
    "                      nn.Linear(1000, 1000))\n",
    "                      \n",
    "print(model)"
   ]
  },
  {
   "cell_type": "code",
   "execution_count": 8,
   "id": "f4d0540a",
   "metadata": {},
   "outputs": [],
   "source": [
    "from torch.utils.data import Dataset, DataLoader\n",
    "\n",
    "def run_validation(val_loader: DataLoader, model: nn.Module, n_steps=None, loss_fn=None):\n",
    "    model.eval()\n",
    "    n_good = 0\n",
    "    n_all = 0\n",
    "    wrapper = lambda x: x\n",
    "    if n_steps is None:\n",
    "        n_steps = len(val_loader)\n",
    "        wrapper = tqdm\n",
    "    \n",
    "    with torch.no_grad():\n",
    "        for batch, (X, y) in enumerate(wrapper(val_loader)):\n",
    "            if batch == n_steps:\n",
    "                break\n",
    "            embeddings = model(X.to(torch.float32).cuda())\n",
    "            logits = loss_fn.get_logits(embeddings)\n",
    "\n",
    "            classes = torch.argmax(logits, dim=1).cpu().numpy()\n",
    "            n_good += sum(classes == y.cpu().numpy())\n",
    "            n_all += len(classes)\n",
    "    \n",
    "    return n_good / n_all\n",
    "\n",
    "def train_epoch(train_loader: DataLoader, val_loader: DataLoader, model: nn.Module, optim, loss_fn):\n",
    "    model.train()\n",
    "\n",
    "    for batch, (X, y) in enumerate(tqdm(train_loader)):\n",
    "        features = model( X.to(torch.float32).cuda() )      \n",
    "        loss = loss_fn(features, y.to(torch.long).cuda()) \n",
    "\n",
    "        optim[0].zero_grad()\n",
    "        optim[1].zero_grad()\n",
    "        \n",
    "        loss.backward()\n",
    "\n",
    "        optim[0].step()\n",
    "        optim[1].step()\n",
    "        "
   ]
  },
  {
   "cell_type": "code",
   "execution_count": 9,
   "id": "7909cc34",
   "metadata": {},
   "outputs": [],
   "source": [
    "class MyHWDBDataset(Dataset):\n",
    "    def __init__(self, helper: HWDBDatasetHelper):\n",
    "        self.helper = helper\n",
    "    \n",
    "    def __len__(self):\n",
    "        return self.helper.size()\n",
    "    \n",
    "    def __getitem__(self, idx):\n",
    "        img, label = self.helper.get_item(idx)\n",
    "        hi, wi = img.shape\n",
    "        \n",
    "        # Уменьшаем размер картинки до 64 с минимальными рамками\n",
    "        size = 64\n",
    "        maxCurSize = max(wi, hi)\n",
    "        ratio = maxCurSize / size    \n",
    "        wi, hi = int(wi / ratio), int(hi / ratio) \n",
    "        img = cv2.resize(img, (wi, hi))\n",
    "\n",
    "        frame = np.zeros((size, size)) + 255\n",
    "        \n",
    "        h, w = img.shape\n",
    "        \n",
    "        frame[:h, :w] = img.copy()\n",
    "        frame = frame.astype(np.uint8)\n",
    "        im_rgb = cv2.cvtColor(frame, cv2.COLOR_GRAY2RGB)\n",
    "        im_rgb = np.swapaxes(im_rgb,0,2)\n",
    "        im_rgb = np.swapaxes(im_rgb,1,2)\n",
    "        return (im_rgb - 127.5) / 255., label    \n",
    "    \n",
    "\n",
    "train_dataset = MyHWDBDataset(train_helper)\n",
    "val_dataset = MyHWDBDataset(val_helper)\n",
    "\n",
    "train_loader = DataLoader(train_dataset, batch_size=1024, shuffle=True, drop_last=True)\n",
    "val_loader = DataLoader(val_dataset, batch_size=2048, shuffle=False)"
   ]
  },
  {
   "cell_type": "code",
   "execution_count": 10,
   "id": "66824a82",
   "metadata": {},
   "outputs": [],
   "source": [
    "from pytorch_metric_learning import losses\n",
    "import torch\n",
    "\n",
    "loss_emb = losses.ArcFaceLoss(num_classes=train_helper.vocabulary.num_classes(), embedding_size=1000).to(torch.device('cuda'))\n",
    "loss_optimizer = torch.optim.Adam(loss_emb.parameters(), lr=1e-3)\n",
    "\n",
    "loss_fn = loss_emb\n",
    "optim = [torch.optim.Adam(model.parameters(), lr=1e-3), loss_optimizer]\n"
   ]
  },
  {
   "cell_type": "code",
   "execution_count": 11,
   "id": "9cea0197",
   "metadata": {},
   "outputs": [
    {
     "data": {
      "image/png": "[encoded data removed]",
      "text/plain": [
       "<Figure size 432x288 with 1 Axes>"
      ]
     },
     "metadata": {
      "needs_background": "light"
     },
     "output_type": "display_data"
    }
   ],
   "source": [
    "import matplotlib.pyplot as plt\n",
    "\n",
    "plt.imshow(train_dataset[0][0][0])\n",
    "plt.show()\n",
    "#print(train_dataset[0][0].shape)\n",
    "#model(torch.tensor(train_dataset[0][0], dtype=torch.float32).unsqueeze(0))\n"
   ]
  },
  {
   "cell_type": "code",
   "execution_count": 12,
   "id": "7eaeaf8f",
   "metadata": {},
   "outputs": [],
   "source": [
    "model = model.cuda()"
   ]
  },
  {
   "cell_type": "code",
   "execution_count": 13,
   "id": "7b1ef533",
   "metadata": {},
   "outputs": [
    {
     "name": "stdout",
     "output_type": "stream",
     "text": [
      "Epoch 0:\n"
     ]
    },
    {
     "name": "stderr",
     "output_type": "stream",
     "text": [
      "100%|██████████████████████████████████████████████████████████████████████████████████████████████████████████████████████████████████████████████████████████████████████████████████████████| 2518/2518 [31:07<00:00,  1.35it/s]\n",
      "100%|████████████████████████████████████████████████████████████████████████████████████████████████████████████████████████████████████████████████████████████████████████████████████████████| 315/315 [05:19<00:00,  1.01s/it]\n"
     ]
    },
    {
     "name": "stdout",
     "output_type": "stream",
     "text": [
      "accuracy: 0.8404164384921712\n",
      "Epoch 1:\n"
     ]
    },
    {
     "name": "stderr",
     "output_type": "stream",
     "text": [
      "100%|██████████████████████████████████████████████████████████████████████████████████████████████████████████████████████████████████████████████████████████████████████████████████████████| 2518/2518 [30:44<00:00,  1.37it/s]\n",
      "100%|████████████████████████████████████████████████████████████████████████████████████████████████████████████████████████████████████████████████████████████████████████████████████████████| 315/315 [05:15<00:00,  1.00s/it]\n"
     ]
    },
    {
     "name": "stdout",
     "output_type": "stream",
     "text": [
      "accuracy: 0.8957600654039891\n",
      "Epoch 2:\n"
     ]
    },
    {
     "name": "stderr",
     "output_type": "stream",
     "text": [
      "100%|██████████████████████████████████████████████████████████████████████████████████████████████████████████████████████████████████████████████████████████████████████████████████████████| 2518/2518 [30:24<00:00,  1.38it/s]\n",
      "100%|████████████████████████████████████████████████████████████████████████████████████████████████████████████████████████████████████████████████████████████████████████████████████████████| 315/315 [05:12<00:00,  1.01it/s]\n"
     ]
    },
    {
     "name": "stdout",
     "output_type": "stream",
     "text": [
      "accuracy: 0.9199576797717687\n",
      "Epoch 3:\n"
     ]
    },
    {
     "name": "stderr",
     "output_type": "stream",
     "text": [
      "100%|██████████████████████████████████████████████████████████████████████████████████████████████████████████████████████████████████████████████████████████████████████████████████████████| 2518/2518 [30:26<00:00,  1.38it/s]\n",
      "100%|████████████████████████████████████████████████████████████████████████████████████████████████████████████████████████████████████████████████████████████████████████████████████████████| 315/315 [05:30<00:00,  1.05s/it]\n"
     ]
    },
    {
     "name": "stdout",
     "output_type": "stream",
     "text": [
      "accuracy: 0.9244627363254314\n",
      "Epoch 4:\n"
     ]
    },
    {
     "name": "stderr",
     "output_type": "stream",
     "text": [
      "100%|██████████████████████████████████████████████████████████████████████████████████████████████████████████████████████████████████████████████████████████████████████████████████████████| 2518/2518 [30:31<00:00,  1.37it/s]\n",
      "100%|████████████████████████████████████████████████████████████████████████████████████████████████████████████████████████████████████████████████████████████████████████████████████████████| 315/315 [05:16<00:00,  1.00s/it]\n"
     ]
    },
    {
     "name": "stdout",
     "output_type": "stream",
     "text": [
      "accuracy: 0.9240780069778735\n"
     ]
    }
   ],
   "source": [
    "from tqdm import tqdm\n",
    "\n",
    "for epoch in range(5):\n",
    "    print(f'Epoch {epoch}:')\n",
    "    train_epoch(train_loader, val_loader, model, optim, loss_fn)\n",
    "    accuracy = run_validation(val_loader, model, loss_fn=loss_fn)\n",
    "    print(f'accuracy: {accuracy}')\n",
    "    torch.save(model.state_dict(), f'baseline_epoch{epoch}.pth')\n",
    "    torch.save(loss_fn.state_dict(), f'loss{epoch}.pth')\n",
    "    "
   ]
  },
  {
   "cell_type": "code",
   "execution_count": 14,
   "id": "0b7d2d9e",
   "metadata": {},
   "outputs": [],
   "source": [
    "torch.save(model.state_dict(), f'baseline.pth')\n",
    "torch.save(loss_fn.state_dict(), f'loss.pth')"
   ]
  },
  {
   "cell_type": "code",
   "execution_count": 15,
   "id": "084adbcb",
   "metadata": {},
   "outputs": [],
   "source": [
    "test_path = r'/media/artem/A2F4DEB0F4DE85C7/myData/datasets/HWDBT/test.zip'\n",
    "pred_path = './pred.txt'\n",
    "\n",
    "test_reader = ArchivedHWDBReader(test_path)\n",
    "test_reader.open()\n",
    "test_helper = HWDBDatasetHelper(test_reader, prefix='Test')"
   ]
  },
  {
   "cell_type": "code",
   "execution_count": 16,
   "id": "c51b0f51",
   "metadata": {},
   "outputs": [],
   "source": [
    "test_dataset = MyHWDBDataset(test_helper)\n",
    "test_loader = DataLoader(test_dataset, batch_size=2048, shuffle=False)"
   ]
  },
  {
   "cell_type": "code",
   "execution_count": 17,
   "id": "b84f75d8",
   "metadata": {},
   "outputs": [
    {
     "name": "stderr",
     "output_type": "stream",
     "text": [
      "100%|████████████████████████████████████████████████████████████████████████████████████████████████████████████████████████████████████████████████████████████████████████████████████████████| 380/380 [04:08<00:00,  1.53it/s]\n"
     ]
    }
   ],
   "source": [
    "from tqdm import tqdm\n",
    "\n",
    "preds = []\n",
    "\n",
    "loss_fn = losses.ArcFaceLoss(num_classes=train_helper.vocabulary.num_classes(), embedding_size=1000).to(torch.device('cuda'))\n",
    "PATH = \"/home/artem/PycharmProjects/course_ocr/course_ocr/task2/loss.pth\"\n",
    "loss_fn.load_state_dict(torch.load(PATH))\n",
    "loss_fn.eval().cuda()\n",
    "\n",
    "model = nn.Sequential(models.mobilenet_v3_large(pretrained=True),\n",
    "                      nn.ReLU(),\n",
    "                      nn.Linear(1000, 1000))\n",
    "PATH = \"/home/artem/PycharmProjects/course_ocr/course_ocr/task2/baseline.pth\"\n",
    "model.load_state_dict(torch.load(PATH))\n",
    "model.eval().cuda()\n",
    "\n",
    "with torch.no_grad():\n",
    "    for X, _ in tqdm(test_loader):\n",
    "        embeddings = model(X.to(torch.float32).cuda())\n",
    "        logits = loss_fn.get_logits(embeddings)\n",
    "        classes = torch.argmax(logits, dim=1).cpu().numpy()\n",
    "        preds.extend(classes)\n"
   ]
  },
  {
   "cell_type": "code",
   "execution_count": 18,
   "id": "ce079c4f",
   "metadata": {},
   "outputs": [],
   "source": [
    "with open(pred_path, 'w') as f_pred:\n",
    "    for idx, pred in enumerate(preds):\n",
    "        name = test_helper.namelist[idx]\n",
    "        cls = train_helper.vocabulary.class_by_index(pred)\n",
    "        print(name, cls, file=f_pred)"
   ]
  },
  {
   "cell_type": "code",
   "execution_count": 19,
   "id": "a6c2491f",
   "metadata": {},
   "outputs": [
    {
     "name": "stdout",
     "output_type": "stream",
     "text": [
      "Accuracy = 0.9053\n"
     ]
    }
   ],
   "source": [
    "from pathlib import Path\n",
    "\n",
    "def evaluate(gt_path, pred_path):\n",
    "    gt = dict()\n",
    "    with open(gt_path) as gt_f:\n",
    "        for line in gt_f:\n",
    "            name, cls = line.strip().split()\n",
    "            gt[name] = cls\n",
    "    \n",
    "    n_good = 0\n",
    "    n_all = len(gt)\n",
    "    with open(pred_path) as pred_f:\n",
    "        for line in pred_f:\n",
    "            name, cls = line.strip().split()\n",
    "            if cls == gt[name]:\n",
    "                n_good += 1\n",
    "    \n",
    "    return n_good / n_all\n",
    "\n",
    "\n",
    "def _run_evaluation():\n",
    "    base = Path(\"/home/artem/PycharmProjects/course_ocr/course_ocr/task2\")\n",
    "    gt_path = base / 'gt.txt'\n",
    "    pred_path = base / 'pred.txt'\n",
    "    score = evaluate(gt_path, pred_path)\n",
    "    print('Accuracy = {:1.4f}'.format(score))\n",
    "\n",
    "_run_evaluation()"
   ]
  },
  {
   "cell_type": "code",
   "execution_count": null,
   "id": "5c6a3fea",
   "metadata": {},
   "outputs": [],
   "source": []
  }
 ],
 "metadata": {
  "kernelspec": {
   "display_name": "Python 3 (ipykernel)",
   "language": "python",
   "name": "python3"
  },
  "language_info": {
   "codemirror_mode": {
    "name": "ipython",
    "version": 3
   },
   "file_extension": ".py",
   "mimetype": "text/x-python",
   "name": "python",
   "nbconvert_exporter": "python",
   "pygments_lexer": "ipython3",
   "version": "3.7.11"
  }
 },
 "nbformat": 4,
 "nbformat_minor": 5
}
