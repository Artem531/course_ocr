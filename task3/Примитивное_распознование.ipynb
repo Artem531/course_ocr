{
  "nbformat": 4,
  "nbformat_minor": 0,
  "metadata": {
    "colab": {
      "name": "Примитивное_распознование.ipynb",
      "provenance": []
    },
    "kernelspec": {
      "name": "python3",
      "display_name": "Python 3"
    },
    "language_info": {
      "name": "python"
    }
  },
  "cells": [
    {
      "cell_type": "code",
      "execution_count": 2,
      "metadata": {
        "colab": {
          "base_uri": "https://localhost:8080/",
          "height": 145
        },
        "id": "lRdB_7NOLrnP",
        "outputId": "126c627c-76fe-42b8-e4e5-a256f2d35b0e"
      },
      "outputs": [
        {
          "output_type": "display_data",
          "data": {
            "text/plain": [
              "<PIL.Image.Image image mode=L size=240x111 at 0x7FD1269C5910>"
            ],
            "image/png": "[encoded data removed]"
          },
          "metadata": {}
        },
        {
          "output_type": "stream",
          "name": "stdout",
          "text": [
            "Data string: 0000000000000101011101100010010100111001001101001110011001010101000010100010011101001010000110110010111001010000000000000\n"
          ]
        }
      ],
      "source": [
        "# https://www.dynamsoft.com/codepool/locating-and-decoding-ean13-python-opencv.html\n",
        "import numpy as np\n",
        "import cv2\n",
        "from google.colab.patches import cv2_imshow\n",
        "\n",
        "# Create a thresholded image.\n",
        "img = cv2.imread(\"/content/barcode.png\")\n",
        "blur = cv2.blur(img,(3,3))\n",
        "gray = cv2.cvtColor(blur, cv2.COLOR_BGR2GRAY)\n",
        "ret, thresh =cv2.threshold(gray, 200, 255, cv2.THRESH_BINARY + cv2.THRESH_OTSU)\n",
        "\n",
        "cv2_imshow(thresh)\n",
        "\n",
        "# The value of the white pixels of the thresholded images is 255 and the black pixels 0. \n",
        "# We need to invert it and replace 255 with 1 to conform to the 0 and 1 pattern. \n",
        "# Only one line of the barcode is needed and here, we use the middle line.\n",
        "\n",
        "thresh = cv2.bitwise_not(thresh)\n",
        "line = thresh[int(img.shape[0]/2)]\n",
        "for i in range(len(line)):\n",
        "    if line[i] == 255:\n",
        "        line[i] = 1\n",
        "\n",
        "# Read the 95 areas and detect the module size. The module size is the length of the smallest bar.\n",
        "\n",
        "def read_bars(line):\n",
        "    bars = []\n",
        "    current_length = 1\n",
        "    for i in range(len(line)-1):\n",
        "        if line[i] == line[i+1]:\n",
        "            current_length = current_length + 1\n",
        "        else:\n",
        "            bars.append(current_length * str(line[i]))\n",
        "            current_length = 1\n",
        "    #remove quite zone\n",
        "    bars.pop(0)\n",
        "    return bars\n",
        "      \n",
        "def detect_module_size(bars):\n",
        "    size = len(bars[0])\n",
        "    for bar in bars:\n",
        "        size = min(len(bar),size)\n",
        "    return size\n",
        "      \n",
        "module_size = detect_module_size(read_bars(line))\n",
        "\n",
        "# Get the data string.\n",
        "def array_as_string(array, module_size):\n",
        "    s = \"\"\n",
        "    for value in array:\n",
        "        s = s + str(value)\n",
        "    s=s.replace(\"1\"*module_size,\"1\")\n",
        "    s=s.replace(\"0\"*module_size,\"0\")\n",
        "    print(\"Data string: \" + s)\n",
        "    return s\n",
        "      \n",
        "data_string = array_as_string(line,module_size)"
      ]
    },
    {
      "cell_type": "markdown",
      "source": [
        "# Decode the Data"
      ],
      "metadata": {
        "id": "KMgf-gD4RMbi"
      }
    },
    {
      "cell_type": "code",
      "source": [
        "# Decode the left half.\n",
        "def decode_left_bar_pattern(pattern):\n",
        "    # \n",
        "    left_pattern_dict = {}\n",
        "    left_pattern_dict[\"0001101\"] = {\"code\":0,\"parity\":\"O\"}\n",
        "    left_pattern_dict[\"0100111\"] = {\"code\":0,\"parity\":\"E\"}\n",
        "    left_pattern_dict[\"0011001\"] = {\"code\":1,\"parity\":\"O\"}\n",
        "    left_pattern_dict[\"0110011\"] = {\"code\":1,\"parity\":\"E\"}\n",
        "    left_pattern_dict[\"0010011\"] = {\"code\":2,\"parity\":\"O\"}\n",
        "    left_pattern_dict[\"0011011\"] = {\"code\":2,\"parity\":\"E\"}\n",
        "    left_pattern_dict[\"0111101\"] = {\"code\":3,\"parity\":\"O\"}\n",
        "    left_pattern_dict[\"0100001\"] = {\"code\":3,\"parity\":\"E\"}\n",
        "    left_pattern_dict[\"0100011\"] = {\"code\":4,\"parity\":\"O\"}\n",
        "    left_pattern_dict[\"0011101\"] = {\"code\":4,\"parity\":\"E\"}\n",
        "    left_pattern_dict[\"0110001\"] = {\"code\":5,\"parity\":\"O\"}\n",
        "    left_pattern_dict[\"0111001\"] = {\"code\":5,\"parity\":\"E\"}\n",
        "    left_pattern_dict[\"0101111\"] = {\"code\":6,\"parity\":\"O\"}\n",
        "    left_pattern_dict[\"0000101\"] = {\"code\":6,\"parity\":\"E\"}\n",
        "    left_pattern_dict[\"0111011\"] = {\"code\":7,\"parity\":\"O\"}\n",
        "    left_pattern_dict[\"0010001\"] = {\"code\":7,\"parity\":\"E\"}\n",
        "    left_pattern_dict[\"0110111\"] = {\"code\":8,\"parity\":\"O\"}\n",
        "    left_pattern_dict[\"0001001\"] = {\"code\":8,\"parity\":\"E\"}\n",
        "    left_pattern_dict[\"0001011\"] = {\"code\":9,\"parity\":\"O\"}\n",
        "    left_pattern_dict[\"0010111\"] = {\"code\":9,\"parity\":\"E\"}\n",
        "    return left_pattern_dict[pattern]\n",
        "      \n",
        "guard_pattern = \"101\"\n",
        "center_guard_pattern = \"01010\"\n",
        "\n",
        "begin_index = data_string.find(guard_pattern)+len(guard_pattern)\n",
        "data_string_left = data_string[begin_index:-1]\n",
        "\n",
        "left_codes = []\n",
        "start_index = 0\n",
        "for i in range(6):\n",
        "    start_index = i*7\n",
        "    bar_pattern = data_string_left[start_index:start_index+7]\n",
        "    decoded = decode_left_bar_pattern(bar_pattern)\n",
        "    left_codes.append(decoded)\n",
        "\n",
        "rem = data_string_left[start_index + 7:]\n",
        "print(rem)"
      ],
      "metadata": {
        "colab": {
          "base_uri": "https://localhost:8080/"
        },
        "id": "7dD1ttZXRLx-",
        "outputId": "bc55e302-5f4b-4d85-8a59-6daf47ee3bd9"
      },
      "execution_count": 11,
      "outputs": [
        {
          "output_type": "stream",
          "name": "stdout",
          "text": [
            "01010100001010001001110100101000011011001011100101000000000000\n"
          ]
        }
      ]
    },
    {
      "cell_type": "code",
      "source": [
        "print(left_codes)"
      ],
      "metadata": {
        "colab": {
          "base_uri": "https://localhost:8080/"
        },
        "id": "uySBK6LqT7Kv",
        "outputId": "c3b5fc26-85d1-49d2-fa2d-b394f37f4208"
      },
      "execution_count": 4,
      "outputs": [
        {
          "output_type": "stream",
          "name": "stdout",
          "text": [
            "[{'code': 7, 'parity': 'O'}, {'code': 8, 'parity': 'E'}, {'code': 0, 'parity': 'E'}, {'code': 2, 'parity': 'O'}, {'code': 0, 'parity': 'E'}, {'code': 1, 'parity': 'O'}]\n"
          ]
        }
      ]
    },
    {
      "cell_type": "code",
      "source": [
        "# Get the initial digit.\n",
        "\n",
        "def get_first_digit(left_codes):\n",
        "    parity_dict = {}\n",
        "    parity_dict[\"OOOOOO\"] = 0\n",
        "    parity_dict[\"OOEOEE\"] = 1\n",
        "    parity_dict[\"OOEEOE\"] = 2\n",
        "    parity_dict[\"OOEEEO\"] = 3\n",
        "    parity_dict[\"OEOOEE\"] = 4\n",
        "    parity_dict[\"OEEOOE\"] = 5\n",
        "    parity_dict[\"OEEEOO\"] = 6\n",
        "    parity_dict[\"OEOEOE\"] = 7\n",
        "    parity_dict[\"OEOEEO\"] = 8\n",
        "    parity_dict[\"OEEOEO\"] = 9\n",
        "    parity = \"\"\n",
        "    for code in left_codes:\n",
        "        parity = parity + code[\"parity\"]\n",
        "    return parity_dict[parity]\n",
        "\n"
      ],
      "metadata": {
        "id": "n-A56KEvRZ8x"
      },
      "execution_count": 5,
      "outputs": []
    },
    {
      "cell_type": "code",
      "source": [
        "def decode_right_bar_pattern(pattern):\n",
        "    right_pattern_dict = {}\n",
        "    # 379 624\n",
        "    # 1000010 1000100 1110100 1010000 1101100 1011100\n",
        "    # 100001010001001110100101000011011001011100\n",
        "    right_pattern_dict[\"1110010\"] = {\"code\":0}\n",
        "    right_pattern_dict[\"1100110\"] = {\"code\":1}\n",
        "    right_pattern_dict[\"1101100\"] = {\"code\":2}\n",
        "    right_pattern_dict[\"1000010\"] = {\"code\":3}\n",
        "    right_pattern_dict[\"1011100\"] = {\"code\":4}\n",
        "    right_pattern_dict[\"1001110\"] = {\"code\":5}\n",
        "    right_pattern_dict[\"1010000\"] = {\"code\":6}\n",
        "    right_pattern_dict[\"1000100\"] = {\"code\":7}\n",
        "    right_pattern_dict[\"1001000\"] = {\"code\":8}\n",
        "    right_pattern_dict[\"1110100\"] = {\"code\":9}\n",
        "    return right_pattern_dict[pattern]\n",
        "      \n",
        "center_index = len(center_guard_pattern) #data_string_left.find(center_guard_pattern)+len(center_guard_pattern)\n",
        "data_string_right = rem[center_index:-1]\n",
        "print(data_string_right)\n",
        "right_codes = []\n",
        "for i in range(6):\n",
        "    start_index = i*7\n",
        "    bar_pattern = data_string_right[start_index:start_index+7]\n",
        "  \n",
        "    decoded = decode_right_bar_pattern(bar_pattern)\n",
        "    right_codes.append(decoded)"
      ],
      "metadata": {
        "colab": {
          "base_uri": "https://localhost:8080/"
        },
        "id": "qiGlTvGFRjrX",
        "outputId": "6c752cd4-ad47-41cc-ff61-fb0cc8450b21"
      },
      "execution_count": 12,
      "outputs": [
        {
          "output_type": "stream",
          "name": "stdout",
          "text": [
            "10000101000100111010010100001101100101110010100000000000\n"
          ]
        }
      ]
    },
    {
      "cell_type": "code",
      "source": [
        "print(right_codes)"
      ],
      "metadata": {
        "colab": {
          "base_uri": "https://localhost:8080/"
        },
        "id": "erc6mC2ZZbok",
        "outputId": "f7ab4d3b-d43f-4f82-9bd9-423ed3e07b88"
      },
      "execution_count": 13,
      "outputs": [
        {
          "output_type": "stream",
          "name": "stdout",
          "text": [
            "[{'code': 3}, {'code': 7}, {'code': 9}, {'code': 6}, {'code': 2}, {'code': 4}]\n"
          ]
        }
      ]
    },
    {
      "cell_type": "code",
      "source": [
        "# Check if the code is valid.\n",
        "# We can calculate the checksum and see if it matches the final digit.\n",
        "\n",
        "def verify(ean13):\n",
        "    weight = [1,3,1,3,1,3,1,3,1,3,1,3,1,3]\n",
        "    weighted_sum = 0\n",
        "    for i in range(12):\n",
        "        weighted_sum = weighted_sum + weight[i] * int(ean13[i])\n",
        "    weighted_sum = str(weighted_sum)\n",
        "    checksum = 0\n",
        "    units_digit = int(weighted_sum[-1])\n",
        "    if units_digit != 0:\n",
        "        checksum = 10 - units_digit\n",
        "    else:\n",
        "        checksum = 0\n",
        "    print(\"The checksum of \"+ean13 + \" is \" + str(checksum))\n",
        "    if checksum == int(ean13[-1]):\n",
        "        print(\"The code is valid.\")\n",
        "        return True\n",
        "    else:\n",
        "        print(\"The code is invalid.\")\n",
        "        return False\n",
        "\n",
        "    "
      ],
      "metadata": {
        "id": "ElQB6dRlRs5O"
      },
      "execution_count": 14,
      "outputs": []
    }
  ]
}